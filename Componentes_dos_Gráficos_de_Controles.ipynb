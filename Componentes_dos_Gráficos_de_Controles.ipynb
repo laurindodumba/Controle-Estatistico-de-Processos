{
  "nbformat": 4,
  "nbformat_minor": 0,
  "metadata": {
    "colab": {
      "provenance": [],
      "authorship_tag": "ABX9TyPddvX/BcfWkHPvi1NORRB2",
      "include_colab_link": true
    },
    "kernelspec": {
      "name": "python3",
      "display_name": "Python 3"
    },
    "language_info": {
      "name": "python"
    }
  },
  "cells": [
    {
      "cell_type": "markdown",
      "metadata": {
        "id": "view-in-github",
        "colab_type": "text"
      },
      "source": [
        "<a href=\"https://colab.research.google.com/github/laurindodumba/Controle-Estatistico-de-Processos/blob/main/Componentes_dos_Gr%C3%A1ficos_de_Controles.ipynb\" target=\"_parent\"><img src=\"https://colab.research.google.com/assets/colab-badge.svg\" alt=\"Open In Colab\"/></a>"
      ]
    },
    {
      "cell_type": "code",
      "execution_count": 9,
      "metadata": {
        "id": "F7miDytcRLWL"
      },
      "outputs": [],
      "source": [
        "#Intervalo de Movimento de Indivíduos (I-MR)\n",
        "# - sem subgrupos, amostras/medidas individuais\n",
        "# Xbar-Range (Xbar-R)\n",
        "# - subgrupos de 2 a 9 amostras/medidas\n",
        "# Xbar-Desvio Padrão (Xbar-S)\n",
        "# - subgrupos de 10 amostras/medidas ou mais"
      ]
    },
    {
      "cell_type": "markdown",
      "source": [
        "# Situação problema: "
      ],
      "metadata": {
        "id": "xesNrFZdTbi9"
      }
    },
    {
      "cell_type": "code",
      "source": [
        "# Digamos que temos uma nova linha de produção de alta tecnologia que produz widgets 24 horas por dia, 7 dias por semana. \n",
        "# Em uma programação regular a cada turno, 12 widgets são coletados da linha de produção pelo técnico de garantia de qualidade e medidos quanto à largura."
      ],
      "metadata": {
        "id": "r-C_sDNWSqK5"
      },
      "execution_count": 10,
      "outputs": []
    },
    {
      "cell_type": "code",
      "source": [
        "# IMPORTAR AS BIBLIOTECAS\n",
        "\n",
        "import numpy as np\n",
        "import pandas as pd\n",
        "import matplotlib.pyplot as plt\n",
        "import statistics as stats\n"
      ],
      "metadata": {
        "id": "bsvit_cUTqCy"
      },
      "execution_count": 11,
      "outputs": []
    },
    {
      "cell_type": "code",
      "source": [
        "# Gerar uma função para criar o conjunto de dados com base nos parametros\n",
        "\n",
        "def generate_dataset(dataset_mean = 10, dataset_stddev = 2, subgroup_size = 12, number_of_groups = 24, random_seed = \"\"):\n",
        "\n",
        "  # Crie um conjunto de dados práticos para ilustrar os gráficos de controle de processo e seu uso.\n",
        "\n",
        "  # Argumentos de palavra-chave:\n",
        "\n",
        "    # dataset_mean -- O valor em torno do qual os dados serão centralizados (padrão 10)\n",
        "    # dataset_stddev -- O desvio padrão (padrão 2)\n",
        "    #subgroup_size -- O número de medições/amostras no subgrupo (padrão 12)\n",
        "    # number_of_groups -- O número total de subgrupos (padrão 24)\n",
        "    # random_seed -- A semente usada para \"bloquear\" os resultados, se desejado (padrão \"\")\n",
        "\n",
        "    if random_seed ==\"\":\n",
        "      pass\n",
        "\n",
        "    else:\n",
        "      np.random.seed(random_seed)\n",
        "\n",
        "    dataset_list =  []\n",
        "    for i in range(0, number_of_groups):\n",
        "      dataset_list.append(list(np.random.normal(loc = dataset_mean, scale = dataset_stddev, size = subgroup_size)))\n",
        "      return np.array(dataset_list)"
      ],
      "metadata": {
        "id": "fkq9MZbAUCva"
      },
      "execution_count": 12,
      "outputs": []
    },
    {
      "cell_type": "code",
      "source": [
        "#Criar um dataset\n",
        "\n",
        "process_dataset = generate_dataset(97, 1, 12, 100, 33)\n",
        "\n",
        "#Definir a lista de variaveis para o grupo de média de cada grupo\n",
        "process_x_bar = []\n",
        "\n",
        "#Definir a lista de variaveis para o grupo de desvio padrão\n",
        "process_stddev = []\n",
        "\n",
        "#Obter e anexar  a média e o desvio padrão para cada grupo\n",
        "\n",
        "for group in process_dataset:\n",
        "  process_x_bar.append(group.mean())\n",
        "  process_stddev.append(np.std(group))\n",
        "\n",
        "\n",
        "  #Extrar a média do processo\n",
        "\n",
        "  process_mean = stats.mean(process_x_bar)\n",
        "\n",
        "\n",
        "  #Extrar a média do desvio padrão\n",
        "  process_stddev = stats.mean(process_stddev)"
      ],
      "metadata": {
        "id": "ZK0IuPf0XOuB"
      },
      "execution_count": 18,
      "outputs": []
    },
    {
      "cell_type": "code",
      "source": [
        "\n",
        "\n",
        "process_mean"
      ],
      "metadata": {
        "colab": {
          "base_uri": "https://localhost:8080/"
        },
        "id": "VE95KIlullMC",
        "outputId": "5064b0e1-f1f1-4c11-b755-ec4361d3e7da"
      },
      "execution_count": 17,
      "outputs": [
        {
          "output_type": "execute_result",
          "data": {
            "text/plain": [
              "96.77783655458161"
            ]
          },
          "metadata": {},
          "execution_count": 17
        }
      ]
    },
    {
      "cell_type": "code",
      "source": [
        "process_stddev"
      ],
      "metadata": {
        "colab": {
          "base_uri": "https://localhost:8080/"
        },
        "id": "gCPgzg9Ql4RI",
        "outputId": "d26f4938-465a-4528-deb9-5397ecba6935"
      },
      "execution_count": 19,
      "outputs": [
        {
          "output_type": "execute_result",
          "data": {
            "text/plain": [
              "0.8936873886655096"
            ]
          },
          "metadata": {},
          "execution_count": 19
        }
      ]
    },
    {
      "cell_type": "code",
      "source": [
        "#Criar um novo modelo de amostras para o dataset\n",
        "\n",
        "sample_dataset = generate_dataset(97, 2, 12, 24, 99)\n",
        "\n",
        "#Criar uma lista para agrupar as médias de cada amostras\n",
        "\n",
        "sample_x_bar = []\n",
        "\n",
        "\n",
        "#Criar um grupo para armazenar as amostras do desvio padrão\n",
        "sample_stddev = []\n",
        "\n",
        "#Agrupar as amostrar do grupo médio e do desvio padrão\n",
        "\n",
        "for group in sample_dataset:\n",
        "  sample_x_bar.append(group.mean())\n",
        "  sample_stddev.append(np.std(group))\n",
        "\n",
        "\n",
        "\n",
        "  #Plotar o gráfico da carta de Média XBar chat\n",
        "  fig, ax = plt.subplots(figsize = (10, 6))\n",
        "\n",
        "  #Criar a carta da média XBar chart\n",
        "  ax.plot(sample_x_bar, linestyle='-', marker='o', color='blue')\n",
        "\n",
        "\n",
        "  #Criar o limite de Controle Superior\n",
        "\n",
        "  LSC = process_mean + 3 * process_stddev\n",
        "  ax.axhline(LSC, color='red')\n",
        "\n",
        "\n",
        "  #Criar o limite inferior de controle\n",
        "\n",
        "  LIC = process_mean - 3 * process_stddev\n",
        "\n",
        "  ax.axhline(LIC, color='red')\n",
        "\n",
        "  #Criar a linha da Média - XBar \n",
        "\n",
        "  ax.axhline(process_mean, color='green')\n",
        "\n",
        "  #Criar um titulo para a carta de controle\n",
        "  ax.set_title('CARTA DE CONTROLE - XBar')\n",
        "\n",
        "  # Rotulos os eixos\n",
        "  ax.set(xlabel='Amostas', ylabel='Médias')\n",
        "\n",
        "\n",
        "  #Determinar os limites para a carta de controle em seus respectivos valores\n",
        "\n",
        "  left, right = ax.get_xlim()\n",
        "  ax.text(right + 0.3, LSC, \"LSC = \" + str(\"{:.2f}\".format(LSC)), color='red')\n",
        "  #ax.text(right + 0.3, process_mean, r'$\\bar{x}$' + \" = \" + str(\"{:.2f}\" + \" = \" + str(\"{:.2f}\".format(process_mean)), color='green'))\n",
        "  ax.text(right + 0.3, process_mean, r'$\\bar{x}$' + \" = \" + str(\"{:.2f}\".format(process_mean)), color='green')\n",
        "\n",
        "  ax.text(right + 0.3, LIC, \"LIC = \" + str(\"{:.2f}\".format(LIC)), color='red')\n",
        "  \n"
      ],
      "metadata": {
        "colab": {
          "base_uri": "https://localhost:8080/",
          "height": 263
        },
        "id": "LbpGOBp4l89a",
        "outputId": "a20a162d-2d62-4de0-d924-ef326db6eda6"
      },
      "execution_count": 38,
      "outputs": [
        {
          "output_type": "display_data",
          "data": {
            "text/plain": [
              "<Figure size 720x432 with 1 Axes>"
            ],
            "image/png": "[encoded data removed]"
          },
          "metadata": {
            "needs_background": "light"
          }
        }
      ]
    },
    {
      "cell_type": "code",
      "source": [
        " #Create a second sample dataset\n",
        "sample_dataset_2 = generate_dataset(99.5, 1, 12, 12)\n",
        "\n",
        "sample_dataset = np.concatenate((sample_dataset, sample_dataset_2))\n",
        "\n",
        "# Create a list to store the sample groups means\n",
        "sample_x_bar = []\n",
        "\n",
        "# Create a list to store the sample groups standard deviations\n",
        "sample_stddev = [] \n",
        "\n",
        "# Combine the sample groups means and standard deviations\n",
        "for group in sample_dataset:\n",
        "    sample_x_bar.append(group.mean())\n",
        "    sample_stddev.append(np.std(group))\n",
        "\n",
        "# Plot the XBar chart\n",
        "fig, ax = plt.subplots(figsize = (10, 6))\n",
        "\n",
        "# Create the XBar chart\n",
        "ax.plot(sample_x_bar, linestyle='-', marker='o', color='blue')\n",
        "\n",
        "# Create the Upper Control Limit Line\n",
        "UCL = process_mean + 3 * process_stddev\n",
        "ax.axhline(UCL, color='red')\n",
        "\n",
        "# Create the Lower Control Limit Line\n",
        "LCL = process_mean - 3 * process_stddev\n",
        "ax.axhline(LCL, color='red')\n",
        "\n",
        "# Create the Xbar line\n",
        "ax.axhline(process_mean, color='green')\n",
        "\n",
        "# Create a chart title\n",
        "ax.set_title('XBar Chart')\n",
        "\n",
        "# Label the axes\n",
        "ax.set(xlabel='Sample', ylabel='Mean')\n",
        "\n",
        "# Determine the x-axis limits in the chart to attach reference values\n",
        "left, right = ax.get_xlim()\n",
        "ax.text(right + 0.3, UCL, \"UCL = \" + str(\"{:.2f}\".format(UCL)), color='red')\n",
        "ax.text(right + 0.3, process_mean, r'$\\bar{x}$' + \" = \" + str(\"{:.2f}\".format(process_mean)), color='green')\n",
        "ax.text(right + 0.3, LCL, \"LCL = \" + str(\"{:.2f}\".format(LCL)), color='red')"
      ],
      "metadata": {
        "colab": {
          "base_uri": "https://localhost:8080/",
          "height": 422
        },
        "id": "yxKBvlloxcTk",
        "outputId": "cb526da0-9596-4e31-8272-5e7149261937"
      },
      "execution_count": 40,
      "outputs": [
        {
          "output_type": "execute_result",
          "data": {
            "text/plain": [
              "Text(1.35, 94.09677438858509, 'LCL = 94.10')"
            ]
          },
          "metadata": {},
          "execution_count": 40
        },
        {
          "output_type": "display_data",
          "data": {
            "text/plain": [
              "<Figure size 720x432 with 1 Axes>"
            ],
            "image/png": "[encoded data removed]"
          },
          "metadata": {
            "needs_background": "light"
          }
        }
      ]
    }
  ]
}