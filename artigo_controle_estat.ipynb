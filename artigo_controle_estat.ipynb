{
  "nbformat": 4,
  "nbformat_minor": 0,
  "metadata": {
    "colab": {
      "provenance": [],
      "include_colab_link": true
    },
    "kernelspec": {
      "name": "python3",
      "display_name": "Python 3"
    }
  },
  "cells": [
    {
      "cell_type": "markdown",
      "metadata": {
        "id": "view-in-github",
        "colab_type": "text"
      },
      "source": [
        "<a href=\"https://colab.research.google.com/github/laurindodumba/Controle-Estatistico-de-Processos/blob/main/artigo_controle_estat.ipynb\" target=\"_parent\"><img src=\"https://colab.research.google.com/assets/colab-badge.svg\" alt=\"Open In Colab\"/></a>"
      ]
    },
    {
      "cell_type": "markdown",
      "metadata": {
        "id": "_oWCCd2o6AAn"
      },
      "source": [
        "##**Como importar o pacote pyspc**\n",
        "Por Mateus Aquino"
      ]
    },
    {
      "cell_type": "markdown",
      "metadata": {
        "id": "itJCL7ZI7ns3"
      },
      "source": [
        "Este é meu repositório para o meu artigo no Medium: https://mateusrodriguesq.medium.com/controle-estat%C3%ADstico-de-qualidade-e-aplica%C3%A7%C3%B5es-em-python-f8348e757dab\n",
        "\n",
        "As fórmulas representadas no artigo podem ser encontradas no livro: Controle Estatístico de Qualidade, segunda edição, de Antônio Fernando Branco Costa, Eugenio Kahn Epprecht e Luiz Cesar Ribeiro Carpinetti.\n",
        "\n",
        "Linkedin: https://www.linkedin.com/in/mateus-aquino-/"
      ]
    },
    {
      "cell_type": "code",
      "metadata": {
        "id": "Kz7FOtzH0PoF"
      },
      "source": [
        "#Primeiramente use o pip para instalá-lo se tiver usando Colab, Jupyter e afins\n",
        "pip install pyspc\n",
        "#Depois o importe assim\n",
        "from pyspc import *"
      ],
      "execution_count": null,
      "outputs": []
    },
    {
      "cell_type": "code",
      "metadata": {
        "id": "5u1-JydA1Hwj"
      },
      "source": [
        "#Livravrias recomendadas\n",
        "import numpy as np\n",
        "import matplotlib.pyplot as plt\n",
        "import seaborn as sns\n",
        "import pandas as pd\n",
        "from scipy import stats\n",
        "from scipy.stats import norm"
      ],
      "execution_count": null,
      "outputs": []
    },
    {
      "cell_type": "markdown",
      "metadata": {
        "id": "pqkHbBUr7iMD"
      },
      "source": [
        "#**Exemplos de como funciona os gráficos de controle**"
      ]
    },
    {
      "cell_type": "code",
      "metadata": {
        "id": "ZXi2xHCt1-lE",
        "colab": {
          "base_uri": "https://localhost:8080/"
        },
        "outputId": "3e8d7c1e-5cdb-40bf-f69c-95cdf12f4a99"
      },
      "source": [
        "#Criando as amostras analisadas\n",
        "laranjinha = []\n",
        "laranjinha = np.array([[130.60481232, 129.15146,  130.1252702,  129.192884,   130.30794025],\n",
        " [128.3880492,  129.64737379, 130.54172757, 129.61673652, 128.64191193],\n",
        " [129.24248711, 129.85075269, 129.8411318,  130.6754409,  128.68046224],\n",
        " [129.78025286, 130.33511103, 129.27514702, 128.8995968,  127.96764658],\n",
        " [129.0078071,  130.42727695, 128.99985003, 129.48867389, 130.73978704],\n",
        " [130.7477687,  130.75521237, 129.76080437, 130.45497196, 127.97674227],\n",
        " [128.47106944, 129.9504358, 129.2328484, 129.41660806, 128.41999267],\n",
        " [128.93819198, 129.40921511, 130.22375856, 129.75472529, 129.01899382],\n",
        " [130.54526697, 128.63104685, 130.75584205, 129.83502097, 130.89568444],\n",
        " [128.98023537, 128.44676351, 129.16024111, 128.6141321, 129.41202333],\n",
        " [131.76684989, 130.82043202, 131.50030305, 129.25539233, 131.27053587],\n",
        " [130.16648081, 129.84889415, 131.67217531, 130.40030893, 132.12899441],\n",
        " [130.76153681, 129.75769418, 128.97958785, 130.83020396, 128.8110238 ],\n",
        " [129.67789301, 128.74392053, 128.64093906, 128.79931196, 128.08385817],\n",
        " [130.06045108, 130.49769566, 128.42749959, 128.15189042, 129.75843366]])\n",
        "print(laranjinha)"
      ],
      "execution_count": null,
      "outputs": [
        {
          "output_type": "stream",
          "text": [
            "[[130.60481232 129.15146    130.1252702  129.192884   130.30794025]\n",
            " [128.3880492  129.64737379 130.54172757 129.61673652 128.64191193]\n",
            " [129.24248711 129.85075269 129.8411318  130.6754409  128.68046224]\n",
            " [129.78025286 130.33511103 129.27514702 128.8995968  127.96764658]\n",
            " [129.0078071  130.42727695 128.99985003 129.48867389 130.73978704]\n",
            " [130.7477687  130.75521237 129.76080437 130.45497196 127.97674227]\n",
            " [128.47106944 129.9504358  129.2328484  129.41660806 128.41999267]\n",
            " [128.93819198 129.40921511 130.22375856 129.75472529 129.01899382]\n",
            " [130.54526697 128.63104685 130.75584205 129.83502097 130.89568444]\n",
            " [128.98023537 128.44676351 129.16024111 128.6141321  129.41202333]\n",
            " [131.76684989 130.82043202 131.50030305 129.25539233 131.27053587]\n",
            " [130.16648081 129.84889415 131.67217531 130.40030893 132.12899441]\n",
            " [130.76153681 129.75769418 128.97958785 130.83020396 128.8110238 ]\n",
            " [129.67789301 128.74392053 128.64093906 128.79931196 128.08385817]\n",
            " [130.06045108 130.49769566 128.42749959 128.15189042 129.75843366]]\n"
          ],
          "name": "stdout"
        }
      ]
    },
    {
      "cell_type": "code",
      "metadata": {
        "colab": {
          "base_uri": "https://localhost:8080/",
          "height": 314
        },
        "id": "XnVyEfoH1K7j",
        "outputId": "8d8ebcf6-74f2-4318-b976-7a8a476f83f9"
      },
      "source": [
        "#Instanciando em a os comandos para o gráfico de controle de x̄ e R\n",
        "laranjinha2 = np.random.randn(15, 5) + 130\n",
        "a = spc(laranjinha) + xbar_sbar() + rbar() + rules()\n",
        "print(a)"
      ],
      "execution_count": null,
      "outputs": [
        {
          "output_type": "display_data",
          "data": {
            "image/png": "[encoded data removed]",
            "text/plain": [
              "<Figure size 432x288 with 2 Axes>"
            ]
          },
          "metadata": {
            "tags": []
          }
        },
        {
          "output_type": "stream",
          "text": [
            "<pyspc: (8729739274781)>\n"
          ],
          "name": "stdout"
        }
      ]
    },
    {
      "cell_type": "code",
      "metadata": {
        "id": "MYauCsM8P_uL",
        "colab": {
          "base_uri": "https://localhost:8080/",
          "height": 491
        },
        "outputId": "306a64d0-4757-4865-9106-4e2cdb22c41b"
      },
      "source": [
        "#Criando um banco de dados para a plotagem de gráficos\n",
        "labels = ['x1','x2','x3','x4','x5', 'x6', 'x7' ,'x8', 'x9' ,'x10', 'x11', 'x12', 'x13', 'x14', 'x15']\n",
        "lar_series = pd.DataFrame((laranjinha), index=labels)\n",
        "lar_series.rename(columns={0: '1', 1: '2',2: '3', 3: '4', 4: '5'}, inplace=True)\n",
        "lar_series"
      ],
      "execution_count": null,
      "outputs": [
        {
          "output_type": "execute_result",
          "data": {
            "text/html": [
              "<div>\n",
              "<style scoped>\n",
              "    .dataframe tbody tr th:only-of-type {\n",
              "        vertical-align: middle;\n",
              "    }\n",
              "\n",
              "    .dataframe tbody tr th {\n",
              "        vertical-align: top;\n",
              "    }\n",
              "\n",
              "    .dataframe thead th {\n",
              "        text-align: right;\n",
              "    }\n",
              "</style>\n",
              "<table border=\"1\" class=\"dataframe\">\n",
              "  <thead>\n",
              "    <tr style=\"text-align: right;\">\n",
              "      <th></th>\n",
              "      <th>1</th>\n",
              "      <th>2</th>\n",
              "      <th>3</th>\n",
              "      <th>4</th>\n",
              "      <th>5</th>\n",
              "    </tr>\n",
              "  </thead>\n",
              "  <tbody>\n",
              "    <tr>\n",
              "      <th>x1</th>\n",
              "      <td>130.604812</td>\n",
              "      <td>129.151460</td>\n",
              "      <td>130.125270</td>\n",
              "      <td>129.192884</td>\n",
              "      <td>130.307940</td>\n",
              "    </tr>\n",
              "    <tr>\n",
              "      <th>x2</th>\n",
              "      <td>128.388049</td>\n",
              "      <td>129.647374</td>\n",
              "      <td>130.541728</td>\n",
              "      <td>129.616737</td>\n",
              "      <td>128.641912</td>\n",
              "    </tr>\n",
              "    <tr>\n",
              "      <th>x3</th>\n",
              "      <td>129.242487</td>\n",
              "      <td>129.850753</td>\n",
              "      <td>129.841132</td>\n",
              "      <td>130.675441</td>\n",
              "      <td>128.680462</td>\n",
              "    </tr>\n",
              "    <tr>\n",
              "      <th>x4</th>\n",
              "      <td>129.780253</td>\n",
              "      <td>130.335111</td>\n",
              "      <td>129.275147</td>\n",
              "      <td>128.899597</td>\n",
              "      <td>127.967647</td>\n",
              "    </tr>\n",
              "    <tr>\n",
              "      <th>x5</th>\n",
              "      <td>129.007807</td>\n",
              "      <td>130.427277</td>\n",
              "      <td>128.999850</td>\n",
              "      <td>129.488674</td>\n",
              "      <td>130.739787</td>\n",
              "    </tr>\n",
              "    <tr>\n",
              "      <th>x6</th>\n",
              "      <td>130.747769</td>\n",
              "      <td>130.755212</td>\n",
              "      <td>129.760804</td>\n",
              "      <td>130.454972</td>\n",
              "      <td>127.976742</td>\n",
              "    </tr>\n",
              "    <tr>\n",
              "      <th>x7</th>\n",
              "      <td>128.471069</td>\n",
              "      <td>129.950436</td>\n",
              "      <td>129.232848</td>\n",
              "      <td>129.416608</td>\n",
              "      <td>128.419993</td>\n",
              "    </tr>\n",
              "    <tr>\n",
              "      <th>x8</th>\n",
              "      <td>128.938192</td>\n",
              "      <td>129.409215</td>\n",
              "      <td>130.223759</td>\n",
              "      <td>129.754725</td>\n",
              "      <td>129.018994</td>\n",
              "    </tr>\n",
              "    <tr>\n",
              "      <th>x9</th>\n",
              "      <td>130.545267</td>\n",
              "      <td>128.631047</td>\n",
              "      <td>130.755842</td>\n",
              "      <td>129.835021</td>\n",
              "      <td>130.895684</td>\n",
              "    </tr>\n",
              "    <tr>\n",
              "      <th>x10</th>\n",
              "      <td>128.980235</td>\n",
              "      <td>128.446764</td>\n",
              "      <td>129.160241</td>\n",
              "      <td>128.614132</td>\n",
              "      <td>129.412023</td>\n",
              "    </tr>\n",
              "    <tr>\n",
              "      <th>x11</th>\n",
              "      <td>131.766850</td>\n",
              "      <td>130.820432</td>\n",
              "      <td>131.500303</td>\n",
              "      <td>129.255392</td>\n",
              "      <td>131.270536</td>\n",
              "    </tr>\n",
              "    <tr>\n",
              "      <th>x12</th>\n",
              "      <td>130.166481</td>\n",
              "      <td>129.848894</td>\n",
              "      <td>131.672175</td>\n",
              "      <td>130.400309</td>\n",
              "      <td>132.128994</td>\n",
              "    </tr>\n",
              "    <tr>\n",
              "      <th>x13</th>\n",
              "      <td>130.761537</td>\n",
              "      <td>129.757694</td>\n",
              "      <td>128.979588</td>\n",
              "      <td>130.830204</td>\n",
              "      <td>128.811024</td>\n",
              "    </tr>\n",
              "    <tr>\n",
              "      <th>x14</th>\n",
              "      <td>129.677893</td>\n",
              "      <td>128.743921</td>\n",
              "      <td>128.640939</td>\n",
              "      <td>128.799312</td>\n",
              "      <td>128.083858</td>\n",
              "    </tr>\n",
              "    <tr>\n",
              "      <th>x15</th>\n",
              "      <td>130.060451</td>\n",
              "      <td>130.497696</td>\n",
              "      <td>128.427500</td>\n",
              "      <td>128.151890</td>\n",
              "      <td>129.758434</td>\n",
              "    </tr>\n",
              "  </tbody>\n",
              "</table>\n",
              "</div>"
            ],
            "text/plain": [
              "              1           2           3           4           5\n",
              "x1   130.604812  129.151460  130.125270  129.192884  130.307940\n",
              "x2   128.388049  129.647374  130.541728  129.616737  128.641912\n",
              "x3   129.242487  129.850753  129.841132  130.675441  128.680462\n",
              "x4   129.780253  130.335111  129.275147  128.899597  127.967647\n",
              "x5   129.007807  130.427277  128.999850  129.488674  130.739787\n",
              "x6   130.747769  130.755212  129.760804  130.454972  127.976742\n",
              "x7   128.471069  129.950436  129.232848  129.416608  128.419993\n",
              "x8   128.938192  129.409215  130.223759  129.754725  129.018994\n",
              "x9   130.545267  128.631047  130.755842  129.835021  130.895684\n",
              "x10  128.980235  128.446764  129.160241  128.614132  129.412023\n",
              "x11  131.766850  130.820432  131.500303  129.255392  131.270536\n",
              "x12  130.166481  129.848894  131.672175  130.400309  132.128994\n",
              "x13  130.761537  129.757694  128.979588  130.830204  128.811024\n",
              "x14  129.677893  128.743921  128.640939  128.799312  128.083858\n",
              "x15  130.060451  130.497696  128.427500  128.151890  129.758434"
            ]
          },
          "metadata": {
            "tags": []
          },
          "execution_count": 8
        }
      ]
    },
    {
      "cell_type": "code",
      "metadata": {
        "id": "451xjQsQD-xF",
        "colab": {
          "base_uri": "https://localhost:8080/",
          "height": 312
        },
        "outputId": "9b25ad87-4007-4b6f-91fc-23144352d08e"
      },
      "source": [
        "#Gráfico para análise de todas as colunas\n",
        "lar_series.plot.hist(grid=True, bins=10, rwidth=0.9)\n",
        "plt.title('Histograma')\n",
        "plt.xlabel('Amostras')\n",
        "plt.ylabel('Valores')"
      ],
      "execution_count": null,
      "outputs": [
        {
          "output_type": "execute_result",
          "data": {
            "text/plain": [
              "Text(0, 0.5, 'Valores')"
            ]
          },
          "metadata": {
            "tags": []
          },
          "execution_count": 9
        },
        {
          "output_type": "display_data",
          "data": {
            "image/png": "[encoded data removed]",
            "text/plain": [
              "<Figure size 432x288 with 1 Axes>"
            ]
          },
          "metadata": {
            "tags": []
          }
        }
      ]
    },
    {
      "cell_type": "code",
      "metadata": {
        "colab": {
          "base_uri": "https://localhost:8080/",
          "height": 282
        },
        "id": "gmF8zd9rIKdS",
        "outputId": "fb2a3a14-9903-4c56-8bd7-77a6b40e34cd"
      },
      "source": [
        "#Gráfico mostrando a distribuição das laranjinhas em ml baseando na distribuição normal\n",
        "sns.set_style('darkgrid')\n",
        "sns.set_color_codes()\n",
        "sns.distplot(lar_series, fit=norm, kde=False, color = 'b')"
      ],
      "execution_count": null,
      "outputs": [
        {
          "output_type": "execute_result",
          "data": {
            "text/plain": [
              "<matplotlib.axes._subplots.AxesSubplot at 0x7f08c7303860>"
            ]
          },
          "metadata": {
            "tags": []
          },
          "execution_count": 10
        },
        {
          "output_type": "display_data",
          "data": {
            "image/png": "[encoded data removed]",
            "text/plain": [
              "<Figure size 432x288 with 1 Axes>"
            ]
          },
          "metadata": {
            "tags": []
          }
        }
      ]
    }
  ]
}